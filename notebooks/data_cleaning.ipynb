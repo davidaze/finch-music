{
 "metadata": {
  "language_info": {
   "codemirror_mode": {
    "name": "ipython",
    "version": 3
   },
   "file_extension": ".py",
   "mimetype": "text/x-python",
   "name": "python",
   "nbconvert_exporter": "python",
   "pygments_lexer": "ipython3",
   "version": "3.8.3-final"
  },
  "orig_nbformat": 2,
  "kernelspec": {
   "name": "python_defaultSpec_1600399105453",
   "display_name": "Python 3.8.3 64-bit ('base': conda)"
  }
 },
 "nbformat": 4,
 "nbformat_minor": 2,
 "cells": [
  {
   "cell_type": "code",
   "execution_count": 8,
   "metadata": {},
   "outputs": [],
   "source": [
    "from nltk.stem import RSLPStemmer\n",
    "from nltk.corpus import stopwords"
   ]
  },
  {
   "cell_type": "code",
   "execution_count": 18,
   "metadata": {
    "tags": []
   },
   "outputs": [
    {
     "output_type": "stream",
     "name": "stderr",
     "text": "[nltk_data] Downloading package stopwords to\n[nltk_data]     C:\\Users\\davia\\AppData\\Roaming\\nltk_data...\n[nltk_data]   Package stopwords is already up-to-date!\n[nltk_data] Downloading package rslp to\n[nltk_data]     C:\\Users\\davia\\AppData\\Roaming\\nltk_data...\n[nltk_data]   Package rslp is already up-to-date!\n[nltk_data] Downloading package punkt to\n[nltk_data]     C:\\Users\\davia\\AppData\\Roaming\\nltk_data...\n[nltk_data]   Unzipping tokenizers\\punkt.zip.\n"
    },
    {
     "output_type": "execute_result",
     "data": {
      "text/plain": "True"
     },
     "metadata": {},
     "execution_count": 18
    }
   ],
   "source": [
    "nltk.download('stopwords')\n",
    "nltk.download('rslp')\n",
    "nltk.download('punkt')"
   ]
  },
  {
   "cell_type": "code",
   "execution_count": 20,
   "metadata": {},
   "outputs": [],
   "source": [
    "def tokenize(text):\n",
    "    text = text.replace('\\n',' ')\n",
    "    text = text.replace('  ',' ')\n",
    "    text = text.lower()\n",
    "    text = text.replace(',','')\n",
    "    text = text.replace('?','')\n",
    "    text = text.replace('!','')\n",
    "    text = text.replace('.','')\n",
    "    stopwordslist = stopwords.words('portuguese')\n",
    "    stemmer = RSLPStemmer()\n",
    "    tokens = nltk.word_tokenize(text)\n",
    "    tokens = [token for token in tokens if token not in stopwordslist]\n",
    "    stems = [stemmer.stem(item) for item in tokens]\n",
    "    return stems"
   ]
  },
  {
   "cell_type": "code",
   "execution_count": 10,
   "metadata": {},
   "outputs": [],
   "source": [
    "oh_juliada = '''Mas esse é o Léo da 17\n",
    "Sucesso com a mulherada\n",
    "\n",
    "Eu sei que eu não sou teu dono\n",
    "Mas tu tá na minha mão\n",
    "Te conheço como a tal\n",
    "Da ruivinha do rabetão\n",
    "\n",
    "Dançando rave ou Mandela\n",
    "Sei qual é tua intenção\n",
    "Faz carinha de safada\n",
    "Batendo o popô no chão\n",
    "\n",
    "Oh, Juliana\n",
    "O que tu quer de mim?\n",
    "Já falei que eu passo o rodo\n",
    "E não caio em qualquer papim\n",
    "\n",
    "Oh, Juliana\n",
    "O que tu quer de mim?\n",
    "Já falei que eu passo o rodo\n",
    "E não caio em qualquer papim\n",
    "\n",
    "Então desliza, desliza\n",
    "Vem jogando esse bundão\n",
    "Prepara, pode pá\n",
    "Vai ser só colocadão\n",
    "\n",
    "Então desliza, desliza\n",
    "Vem jogando esse bundão\n",
    "Prepara, pode pá\n",
    "Vai ser só colocadão\n",
    "\n",
    "Então desliza, desliza\n",
    "Vem jogando esse bundão\n",
    "Prepara, pode pá\n",
    "Vai ser só colocadão\n",
    "\n",
    "Então desliza, desliza\n",
    "Vem jogando esse bundão\n",
    "Prepara, pode pá\n",
    "Vai ser só colocadão\n",
    "Vai ser só colocadão\n",
    "\n",
    "Mas esse é o Léo da 17\n",
    "Sucesso com a mulherada\n",
    "\n",
    "Eu sei que eu não sou teu dono\n",
    "Mas tu tá na minha mão\n",
    "Te conheço como a tal\n",
    "Da ruivinha do rabetão\n",
    "\n",
    "Dançando rave ou Mandela\n",
    "Sei qual é tua intenção\n",
    "Faz carinha de safada\n",
    "Batendo o popô no chão\n",
    "\n",
    "Oh, Juliana\n",
    "O que tu quer de mim?\n",
    "Já falei que eu passo o rodo\n",
    "E não caio em qualquer papim\n",
    "\n",
    "Oh, Juliana\n",
    "O que tu quer de mim?\n",
    "Já falei que eu passo o rodo\n",
    "E não caio em qualquer papim\n",
    "\n",
    "Então desliza, desliza\n",
    "Vem jogando esse bundão\n",
    "Prepara, pode pá\n",
    "Vai ser só colocadão\n",
    "\n",
    "Então desliza, desliza\n",
    "Vem jogando esse bundão\n",
    "Prepara, pode pá\n",
    "Vai ser só colocadão\n",
    "\n",
    "Então desliza, desliza\n",
    "Vem jogando esse bundão\n",
    "Prepara, pode pá\n",
    "Vai ser só colocadão\n",
    "\n",
    "Então desliza, desliza\n",
    "Vem jogando esse bundão\n",
    "Prepara, pode pá\n",
    "Vai ser só colocadão\n",
    "Vai ser só colocadão'''"
   ]
  },
  {
   "cell_type": "code",
   "execution_count": 21,
   "metadata": {
    "tags": []
   },
   "outputs": [
    {
     "output_type": "stream",
     "name": "stdout",
     "text": "['léo', '17', 'sucess', 'mulher', 'sei', 'don', 'tá', 'mão', 'conheç', 'tal', 'ruiv', 'rabet', 'danç', 'rav', 'mandel', 'sei', 'intenç', 'faz', 'car', 'saf', 'bat', 'popô', 'chã', 'oh', 'juli', 'qu', 'mim', 'fal', 'pass', 'rod', 'cai', 'qualqu', 'papim', 'oh', 'juli', 'qu', 'mim', 'fal', 'pass', 'rod', 'cai', 'qualqu', 'papim', 'ent', 'desliz', 'desliz', 'vem', 'jog', 'bund', 'prepar', 'pod', 'pá', 'vai', 'ser', 'coloc', 'ent', 'desliz', 'desliz', 'vem', 'jog', 'bund', 'prepar', 'pod', 'pá', 'vai', 'ser', 'coloc', 'ent', 'desliz', 'desliz', 'vem', 'jog', 'bund', 'prepar', 'pod', 'pá', 'vai', 'ser', 'coloc', 'ent', 'desliz', 'desliz', 'vem', 'jog', 'bund', 'prepar', 'pod', 'pá', 'vai', 'ser', 'coloc', 'vai', 'ser', 'coloc', 'léo', '17', 'sucess', 'mulher', 'sei', 'don', 'tá', 'mão', 'conheç', 'tal', 'ruiv', 'rabet', 'danç', 'rav', 'mandel', 'sei', 'intenç', 'faz', 'car', 'saf', 'bat', 'popô', 'chã', 'oh', 'juli', 'qu', 'mim', 'fal', 'pass', 'rod', 'cai', 'qualqu', 'papim', 'oh', 'juli', 'qu', 'mim', 'fal', 'pass', 'rod', 'cai', 'qualqu', 'papim', 'ent', 'desliz', 'desliz', 'vem', 'jog', 'bund', 'prepar', 'pod', 'pá', 'vai', 'ser', 'coloc', 'ent', 'desliz', 'desliz', 'vem', 'jog', 'bund', 'prepar', 'pod', 'pá', 'vai', 'ser', 'coloc', 'ent', 'desliz', 'desliz', 'vem', 'jog', 'bund', 'prepar', 'pod', 'pá', 'vai', 'ser', 'coloc', 'ent', 'desliz', 'desliz', 'vem', 'jog', 'bund', 'prepar', 'pod', 'pá', 'vai', 'ser', 'coloc', 'vai', 'ser', 'coloc']\n"
    }
   ],
   "source": [
    "print(tokenize(oh_juliada))"
   ]
  },
  {
   "cell_type": "code",
   "execution_count": null,
   "metadata": {},
   "outputs": [],
   "source": []
  }
 ]
}